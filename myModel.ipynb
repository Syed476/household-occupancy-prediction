{
 "cells": [
  {
   "cell_type": "code",
   "execution_count": 100,
   "id": "cfd4b09e-7ff8-4063-8ecb-ae3586172ce2",
   "metadata": {},
   "outputs": [],
   "source": [
    "import sqlite3\n",
    "import pandas as pd\n",
    "from sklearn.model_selection import train_test_split\n",
    "from sklearn.feature_extraction.text import CountVectorizer\n",
    "from sklearn.naive_bayes import MultinomialNB\n",
    "\n",
    "# Connect to the SQLite database\n",
    "conn = sqlite3.connect(r'C:\\Users\\syeda\\Desktop\\de-ht-Imperial\\data.db')\n",
    "\n"
   ]
  },
  {
   "cell_type": "code",
   "execution_count": 101,
   "id": "fcc92efe-5946-419a-802d-c1490e101f82",
   "metadata": {},
   "outputs": [],
   "source": [
    "# Load the data from the 'motion' and 'homes' tables\n",
    "df_motion = pd.read_sql_query(\"SELECT * FROM motion\", conn)\n",
    "df_homes = pd.read_sql_query(\"SELECT * FROM homes\", conn)\n"
   ]
  },
  {
   "cell_type": "code",
   "execution_count": 102,
   "id": "cde1f528-4cc1-49b1-bd71-0a8bb35b70e0",
   "metadata": {},
   "outputs": [
    {
     "name": "stdout",
     "output_type": "stream",
     "text": [
      "                                      id                           home_id  \\\n",
      "0       e41218b439d933a1cd9ad158f78e9198  205c42ec747e2db13cb92087a99433f1   \n",
      "1       92d48d869ae50b0764cfb8d70494f618  7d2f2e0a9e059b4fb8106bb0ad4b8a39   \n",
      "2       65c18ba64884442dd47c2fd4cf3630e4  44a880cc6fc3a7db3464092f650ae7f1   \n",
      "3       90d6336d189c929aa50fa08e5aee5f41  49b83fce41b676266b98cd1e095f1c11   \n",
      "4       6e3d73bed24b95ffdfe5ec017787f039  14328a0b7574e912c2e23d62c9476a07   \n",
      "...                                  ...                               ...   \n",
      "580312  5ec75a93dcc136e6a4c7a4483d60b2ed  3a1f53e2e242bff03301a250135f894b   \n",
      "580313  406c70038a540d29b1e68250d5ed341c  37b99328702f9fdc68c431a4ac450f2e   \n",
      "580314  5168c52c3c022d747c81a6e6ce868e3f  3a1f53e2e242bff03301a250135f894b   \n",
      "580315  40cad449e7cef4164b02672e8caff379  2b5ce37a65e82735416d69b987d99fe8   \n",
      "580316  85cd6fe2cc3e585b17c4f7b9aaa4a439  37b99328702f9fdc68c431a4ac450f2e   \n",
      "\n",
      "                      datetime   location  \n",
      "0       2024-01-01 00:00:10+00     lounge  \n",
      "1       2024-01-01 00:00:17+00     lounge  \n",
      "2       2024-01-01 00:00:18+00     lounge  \n",
      "3       2024-01-01 00:00:43+00     lounge  \n",
      "4       2024-01-01 00:00:57+00     lounge  \n",
      "...                        ...        ...  \n",
      "580312  2024-01-31 23:58:26+00  bathroom1  \n",
      "580313  2024-01-31 23:58:36+00    kitchen  \n",
      "580314  2024-01-31 23:59:02+00   bedroom1  \n",
      "580315  2024-01-31 23:59:09+00    hallway  \n",
      "580316  2024-01-31 23:59:12+00    kitchen  \n",
      "\n",
      "[580317 rows x 4 columns]\n"
     ]
    }
   ],
   "source": [
    "print(df_motion)"
   ]
  },
  {
   "cell_type": "code",
   "execution_count": 103,
   "id": "5ac85f7e-8655-477a-b0dc-678642172240",
   "metadata": {},
   "outputs": [
    {
     "name": "stdout",
     "output_type": "stream",
     "text": [
      "                                   id  multiple_occupancy\n",
      "0    dc922bd9bf8a2a9437642fe0dce9dcaa                   0\n",
      "1    d40fc88629271da7b5833ed3f3222d17                   1\n",
      "2    3fb064da180f02862063eca8e3b609c0                   1\n",
      "3    16d71b9c46d9abd765bf395818efe527                   0\n",
      "4    458264665736fd26184a8ea5641e6c48                   1\n",
      "..                                ...                 ...\n",
      "101  dbe580ed60d7c329931d98a0e2ad0ea3                   1\n",
      "102  04a16138cd7e0fa768858ff7c02856d8                   1\n",
      "103  62c8145530aca30cb0455dc386c0a9d6                   1\n",
      "104  3a5cc5ac41ab3b18b63d6d8366e30fb0                   1\n",
      "105  3a1f53e2e242bff03301a250135f894b                   0\n",
      "\n",
      "[106 rows x 2 columns]\n"
     ]
    }
   ],
   "source": [
    "print(df_homes)"
   ]
  },
  {
   "cell_type": "code",
   "execution_count": 104,
   "id": "fb80b8d6-260f-477b-8aa8-889fb3fc6147",
   "metadata": {},
   "outputs": [
    {
     "name": "stdout",
     "output_type": "stream",
     "text": [
      "Motion Data Shape: (580317, 4)\n",
      "                                 id                           home_id  \\\n",
      "0  e41218b439d933a1cd9ad158f78e9198  205c42ec747e2db13cb92087a99433f1   \n",
      "1  92d48d869ae50b0764cfb8d70494f618  7d2f2e0a9e059b4fb8106bb0ad4b8a39   \n",
      "2  65c18ba64884442dd47c2fd4cf3630e4  44a880cc6fc3a7db3464092f650ae7f1   \n",
      "3  90d6336d189c929aa50fa08e5aee5f41  49b83fce41b676266b98cd1e095f1c11   \n",
      "4  6e3d73bed24b95ffdfe5ec017787f039  14328a0b7574e912c2e23d62c9476a07   \n",
      "\n",
      "                 datetime location  \n",
      "0  2024-01-01 00:00:10+00   lounge  \n",
      "1  2024-01-01 00:00:17+00   lounge  \n",
      "2  2024-01-01 00:00:18+00   lounge  \n",
      "3  2024-01-01 00:00:43+00   lounge  \n",
      "4  2024-01-01 00:00:57+00   lounge  \n",
      "<class 'pandas.core.frame.DataFrame'>\n",
      "RangeIndex: 580317 entries, 0 to 580316\n",
      "Data columns (total 4 columns):\n",
      " #   Column    Non-Null Count   Dtype \n",
      "---  ------    --------------   ----- \n",
      " 0   id        580317 non-null  object\n",
      " 1   home_id   580317 non-null  object\n",
      " 2   datetime  580317 non-null  object\n",
      " 3   location  580317 non-null  object\n",
      "dtypes: object(4)\n",
      "memory usage: 17.7+ MB\n",
      "None\n"
     ]
    }
   ],
   "source": [
    "# Explore the motion data\n",
    "print(\"Motion Data Shape:\", df_motion.shape)\n",
    "print(df_motion.head())\n",
    "print(df_motion.info())"
   ]
  },
  {
   "cell_type": "code",
   "execution_count": 105,
   "id": "7fcd6b17-a1a4-4561-a6b5-af856d51e393",
   "metadata": {},
   "outputs": [
    {
     "name": "stdout",
     "output_type": "stream",
     "text": [
      "\n",
      "Homes Data Shape: (106, 2)\n",
      "                                 id  multiple_occupancy\n",
      "0  dc922bd9bf8a2a9437642fe0dce9dcaa                   0\n",
      "1  d40fc88629271da7b5833ed3f3222d17                   1\n",
      "2  3fb064da180f02862063eca8e3b609c0                   1\n",
      "3  16d71b9c46d9abd765bf395818efe527                   0\n",
      "4  458264665736fd26184a8ea5641e6c48                   1\n",
      "<class 'pandas.core.frame.DataFrame'>\n",
      "RangeIndex: 106 entries, 0 to 105\n",
      "Data columns (total 2 columns):\n",
      " #   Column              Non-Null Count  Dtype \n",
      "---  ------              --------------  ----- \n",
      " 0   id                  106 non-null    object\n",
      " 1   multiple_occupancy  106 non-null    int64 \n",
      "dtypes: int64(1), object(1)\n",
      "memory usage: 1.8+ KB\n",
      "None\n"
     ]
    }
   ],
   "source": [
    "# Explore the homes data\n",
    "print(\"\\nHomes Data Shape:\", df_homes.shape)\n",
    "print(df_homes.head())\n",
    "print(df_homes.info())"
   ]
  },
  {
   "cell_type": "code",
   "execution_count": 106,
   "id": "40a88040-f7c4-4f8f-8384-730e72d5bc60",
   "metadata": {},
   "outputs": [
    {
     "name": "stdout",
     "output_type": "stream",
     "text": [
      "\n",
      "Missing Values in Motion Data:\n",
      "id          0\n",
      "home_id     0\n",
      "datetime    0\n",
      "location    0\n",
      "dtype: int64\n"
     ]
    }
   ],
   "source": [
    "# Check for missing values\n",
    "print(\"\\nMissing Values in Motion Data:\")\n",
    "print(df_motion.isnull().sum())\n"
   ]
  },
  {
   "cell_type": "code",
   "execution_count": 107,
   "id": "ffc6ff89-73f8-4b54-bf85-7f148eb4756b",
   "metadata": {},
   "outputs": [
    {
     "name": "stdout",
     "output_type": "stream",
     "text": [
      "\n",
      "Missing Values in Homes Data:\n",
      "id                    0\n",
      "multiple_occupancy    0\n",
      "dtype: int64\n"
     ]
    }
   ],
   "source": [
    "print(\"\\nMissing Values in Homes Data:\")\n",
    "print(df_homes.isnull().sum())"
   ]
  },
  {
   "cell_type": "code",
   "execution_count": 108,
   "id": "34f75c3f-7044-4faf-90df-cc1f5c11413f",
   "metadata": {},
   "outputs": [],
   "source": [
    "# Convert datetime column to datetime format\n",
    "df_motion['datetime'] = pd.to_datetime(df_motion['datetime'])\n"
   ]
  },
  {
   "cell_type": "code",
   "execution_count": 109,
   "id": "cc9f339c-661f-4ac8-b92d-d4cd39633b55",
   "metadata": {},
   "outputs": [],
   "source": [
    "# Create a new 'hour' feature from the datetime column\n",
    "df_motion['hour'] = df_motion['datetime'].dt.hour"
   ]
  },
  {
   "cell_type": "code",
   "execution_count": 110,
   "id": "5eab93cc-8242-4eb6-b1ad-b1ae80b626df",
   "metadata": {},
   "outputs": [],
   "source": [
    "# Group the location column into broader categories\n",
    "location_mapping = {'lounge': 'living_area', 'kitchen': 'living_area', 'hallway': 'other',\n",
    "                    'bedroom1': 'sleeping_area', 'bedroom2': 'sleeping_area',\n",
    "                    'bathroom1': 'other', 'bathroom2': 'other'}\n",
    "df_motion['location_category'] = df_motion['location'].map(location_mapping)"
   ]
  },
  {
   "cell_type": "code",
   "execution_count": 111,
   "id": "f9a2679f-1922-4fa1-9f0c-7118972e26d1",
   "metadata": {},
   "outputs": [],
   "source": [
    "# Calculate the total number of motion events per hour and location category for each home_id\n",
    "motion_counts = df_motion.groupby(['home_id', 'hour', 'location_category']).size().reset_index(name='event_count')\n"
   ]
  },
  {
   "cell_type": "code",
   "execution_count": 112,
   "id": "5f00e647-97a8-40eb-a9e7-251258ad0f1d",
   "metadata": {},
   "outputs": [],
   "source": [
    "# Pivot the data to create a feature matrix\n",
    "feature_matrix = motion_counts.pivot_table(index=['home_id', 'hour'],\n",
    "                                            columns='location_category',\n",
    "                                            values='event_count',\n",
    "                                            fill_value=0)\n",
    "feature_matrix = feature_matrix.reset_index()"
   ]
  },
  {
   "cell_type": "code",
   "execution_count": 113,
   "id": "b8be9c17-309d-4f38-a096-7af562de8238",
   "metadata": {},
   "outputs": [],
   "source": [
    "# Additional feature engineering ideas\n",
    "# Total motion events per home\n",
    "total_events = df_motion.groupby('home_id').size().reset_index(name='total_events')\n",
    "feature_matrix = feature_matrix.merge(total_events, on='home_id', how='left')"
   ]
  },
  {
   "cell_type": "code",
   "execution_count": 114,
   "id": "2d1b1005-602d-41da-b8ea-789442bf549e",
   "metadata": {},
   "outputs": [],
   "source": [
    "# Ratio of motion events in different location categories\n",
    "feature_matrix['living_area_ratio'] = feature_matrix['living_area'] / feature_matrix['total_events']\n",
    "feature_matrix['sleeping_area_ratio'] = feature_matrix['sleeping_area'] / feature_matrix['total_events']\n",
    "feature_matrix['other_ratio'] = feature_matrix['other'] / feature_matrix['total_events']\n"
   ]
  },
  {
   "cell_type": "code",
   "execution_count": 115,
   "id": "13ab671c-d0c3-45b9-87bb-c45315d5f35f",
   "metadata": {},
   "outputs": [],
   "source": [
    "# Drop unnecessary columns\n",
    "feature_matrix = feature_matrix.drop(['total_events'], axis=1)"
   ]
  },
  {
   "cell_type": "code",
   "execution_count": 116,
   "id": "7b91b111-1985-41de-a96f-5577eabe100c",
   "metadata": {},
   "outputs": [],
   "source": [
    "from sklearn.model_selection import train_test_split\n",
    "\n",
    "# Merge the feature matrix with the target variable 'multiple_occupancy'\n",
    "target = df_homes[['id', 'multiple_occupancy']]\n",
    "target.columns = ['home_id', 'multiple_occupancy']\n",
    "data = feature_matrix.merge(target, on='home_id', how='left')"
   ]
  },
  {
   "cell_type": "code",
   "execution_count": 117,
   "id": "ef9153ab-edbb-4053-86b7-22f7cef7cc06",
   "metadata": {},
   "outputs": [],
   "source": [
    "# Split the data into training and testing sets\n",
    "X = data.drop('multiple_occupancy', axis=1)\n",
    "y = data['multiple_occupancy']"
   ]
  },
  {
   "cell_type": "code",
   "execution_count": 118,
   "id": "0f4f0d2c-524a-4f2d-ab81-11fd43240504",
   "metadata": {},
   "outputs": [],
   "source": [
    "# Remove the 'home_id' column from the feature matrix\n",
    "X = feature_matrix.drop('home_id', axis=1)"
   ]
  },
  {
   "cell_type": "code",
   "execution_count": 119,
   "id": "a84a32d0-d320-4747-a9f2-7e275c0b2aac",
   "metadata": {},
   "outputs": [],
   "source": [
    "X_train, X_test, y_train, y_test = train_test_split(X, y, test_size=0.2, random_state=42)"
   ]
  },
  {
   "cell_type": "code",
   "execution_count": 120,
   "id": "f9c6d714-323f-41db-ba4a-33c20a498ac1",
   "metadata": {},
   "outputs": [],
   "source": [
    "from sklearn.ensemble import RandomForestClassifier\n",
    "from sklearn.metrics import accuracy_score, precision_score, recall_score, f1_score\n",
    "from sklearn.model_selection import cross_val_score\n",
    "\n",
    "# Choosing a suitable classification algorithm (Random Forest Classifier)\n",
    "# Random Forest is a robust and versatile algorithm that can handle non-linear relationships\n",
    "# and high-dimensional data. It is also less prone to overfitting compared to individual decision trees.\n",
    "\n",
    "model = RandomForestClassifier(random_state=42)"
   ]
  },
  {
   "cell_type": "code",
   "execution_count": 121,
   "id": "33e28301-56ae-475c-a3c0-7c59a1eef864",
   "metadata": {},
   "outputs": [
    {
     "data": {
      "text/html": [
       "<style>#sk-container-id-3 {\n",
       "  /* Definition of color scheme common for light and dark mode */\n",
       "  --sklearn-color-text: black;\n",
       "  --sklearn-color-line: gray;\n",
       "  /* Definition of color scheme for unfitted estimators */\n",
       "  --sklearn-color-unfitted-level-0: #fff5e6;\n",
       "  --sklearn-color-unfitted-level-1: #f6e4d2;\n",
       "  --sklearn-color-unfitted-level-2: #ffe0b3;\n",
       "  --sklearn-color-unfitted-level-3: chocolate;\n",
       "  /* Definition of color scheme for fitted estimators */\n",
       "  --sklearn-color-fitted-level-0: #f0f8ff;\n",
       "  --sklearn-color-fitted-level-1: #d4ebff;\n",
       "  --sklearn-color-fitted-level-2: #b3dbfd;\n",
       "  --sklearn-color-fitted-level-3: cornflowerblue;\n",
       "\n",
       "  /* Specific color for light theme */\n",
       "  --sklearn-color-text-on-default-background: var(--sg-text-color, var(--theme-code-foreground, var(--jp-content-font-color1, black)));\n",
       "  --sklearn-color-background: var(--sg-background-color, var(--theme-background, var(--jp-layout-color0, white)));\n",
       "  --sklearn-color-border-box: var(--sg-text-color, var(--theme-code-foreground, var(--jp-content-font-color1, black)));\n",
       "  --sklearn-color-icon: #696969;\n",
       "\n",
       "  @media (prefers-color-scheme: dark) {\n",
       "    /* Redefinition of color scheme for dark theme */\n",
       "    --sklearn-color-text-on-default-background: var(--sg-text-color, var(--theme-code-foreground, var(--jp-content-font-color1, white)));\n",
       "    --sklearn-color-background: var(--sg-background-color, var(--theme-background, var(--jp-layout-color0, #111)));\n",
       "    --sklearn-color-border-box: var(--sg-text-color, var(--theme-code-foreground, var(--jp-content-font-color1, white)));\n",
       "    --sklearn-color-icon: #878787;\n",
       "  }\n",
       "}\n",
       "\n",
       "#sk-container-id-3 {\n",
       "  color: var(--sklearn-color-text);\n",
       "}\n",
       "\n",
       "#sk-container-id-3 pre {\n",
       "  padding: 0;\n",
       "}\n",
       "\n",
       "#sk-container-id-3 input.sk-hidden--visually {\n",
       "  border: 0;\n",
       "  clip: rect(1px 1px 1px 1px);\n",
       "  clip: rect(1px, 1px, 1px, 1px);\n",
       "  height: 1px;\n",
       "  margin: -1px;\n",
       "  overflow: hidden;\n",
       "  padding: 0;\n",
       "  position: absolute;\n",
       "  width: 1px;\n",
       "}\n",
       "\n",
       "#sk-container-id-3 div.sk-dashed-wrapped {\n",
       "  border: 1px dashed var(--sklearn-color-line);\n",
       "  margin: 0 0.4em 0.5em 0.4em;\n",
       "  box-sizing: border-box;\n",
       "  padding-bottom: 0.4em;\n",
       "  background-color: var(--sklearn-color-background);\n",
       "}\n",
       "\n",
       "#sk-container-id-3 div.sk-container {\n",
       "  /* jupyter's `normalize.less` sets `[hidden] { display: none; }`\n",
       "     but bootstrap.min.css set `[hidden] { display: none !important; }`\n",
       "     so we also need the `!important` here to be able to override the\n",
       "     default hidden behavior on the sphinx rendered scikit-learn.org.\n",
       "     See: https://github.com/scikit-learn/scikit-learn/issues/21755 */\n",
       "  display: inline-block !important;\n",
       "  position: relative;\n",
       "}\n",
       "\n",
       "#sk-container-id-3 div.sk-text-repr-fallback {\n",
       "  display: none;\n",
       "}\n",
       "\n",
       "div.sk-parallel-item,\n",
       "div.sk-serial,\n",
       "div.sk-item {\n",
       "  /* draw centered vertical line to link estimators */\n",
       "  background-image: linear-gradient(var(--sklearn-color-text-on-default-background), var(--sklearn-color-text-on-default-background));\n",
       "  background-size: 2px 100%;\n",
       "  background-repeat: no-repeat;\n",
       "  background-position: center center;\n",
       "}\n",
       "\n",
       "/* Parallel-specific style estimator block */\n",
       "\n",
       "#sk-container-id-3 div.sk-parallel-item::after {\n",
       "  content: \"\";\n",
       "  width: 100%;\n",
       "  border-bottom: 2px solid var(--sklearn-color-text-on-default-background);\n",
       "  flex-grow: 1;\n",
       "}\n",
       "\n",
       "#sk-container-id-3 div.sk-parallel {\n",
       "  display: flex;\n",
       "  align-items: stretch;\n",
       "  justify-content: center;\n",
       "  background-color: var(--sklearn-color-background);\n",
       "  position: relative;\n",
       "}\n",
       "\n",
       "#sk-container-id-3 div.sk-parallel-item {\n",
       "  display: flex;\n",
       "  flex-direction: column;\n",
       "}\n",
       "\n",
       "#sk-container-id-3 div.sk-parallel-item:first-child::after {\n",
       "  align-self: flex-end;\n",
       "  width: 50%;\n",
       "}\n",
       "\n",
       "#sk-container-id-3 div.sk-parallel-item:last-child::after {\n",
       "  align-self: flex-start;\n",
       "  width: 50%;\n",
       "}\n",
       "\n",
       "#sk-container-id-3 div.sk-parallel-item:only-child::after {\n",
       "  width: 0;\n",
       "}\n",
       "\n",
       "/* Serial-specific style estimator block */\n",
       "\n",
       "#sk-container-id-3 div.sk-serial {\n",
       "  display: flex;\n",
       "  flex-direction: column;\n",
       "  align-items: center;\n",
       "  background-color: var(--sklearn-color-background);\n",
       "  padding-right: 1em;\n",
       "  padding-left: 1em;\n",
       "}\n",
       "\n",
       "\n",
       "/* Toggleable style: style used for estimator/Pipeline/ColumnTransformer box that is\n",
       "clickable and can be expanded/collapsed.\n",
       "- Pipeline and ColumnTransformer use this feature and define the default style\n",
       "- Estimators will overwrite some part of the style using the `sk-estimator` class\n",
       "*/\n",
       "\n",
       "/* Pipeline and ColumnTransformer style (default) */\n",
       "\n",
       "#sk-container-id-3 div.sk-toggleable {\n",
       "  /* Default theme specific background. It is overwritten whether we have a\n",
       "  specific estimator or a Pipeline/ColumnTransformer */\n",
       "  background-color: var(--sklearn-color-background);\n",
       "}\n",
       "\n",
       "/* Toggleable label */\n",
       "#sk-container-id-3 label.sk-toggleable__label {\n",
       "  cursor: pointer;\n",
       "  display: block;\n",
       "  width: 100%;\n",
       "  margin-bottom: 0;\n",
       "  padding: 0.5em;\n",
       "  box-sizing: border-box;\n",
       "  text-align: center;\n",
       "}\n",
       "\n",
       "#sk-container-id-3 label.sk-toggleable__label-arrow:before {\n",
       "  /* Arrow on the left of the label */\n",
       "  content: \"▸\";\n",
       "  float: left;\n",
       "  margin-right: 0.25em;\n",
       "  color: var(--sklearn-color-icon);\n",
       "}\n",
       "\n",
       "#sk-container-id-3 label.sk-toggleable__label-arrow:hover:before {\n",
       "  color: var(--sklearn-color-text);\n",
       "}\n",
       "\n",
       "/* Toggleable content - dropdown */\n",
       "\n",
       "#sk-container-id-3 div.sk-toggleable__content {\n",
       "  max-height: 0;\n",
       "  max-width: 0;\n",
       "  overflow: hidden;\n",
       "  text-align: left;\n",
       "  /* unfitted */\n",
       "  background-color: var(--sklearn-color-unfitted-level-0);\n",
       "}\n",
       "\n",
       "#sk-container-id-3 div.sk-toggleable__content.fitted {\n",
       "  /* fitted */\n",
       "  background-color: var(--sklearn-color-fitted-level-0);\n",
       "}\n",
       "\n",
       "#sk-container-id-3 div.sk-toggleable__content pre {\n",
       "  margin: 0.2em;\n",
       "  border-radius: 0.25em;\n",
       "  color: var(--sklearn-color-text);\n",
       "  /* unfitted */\n",
       "  background-color: var(--sklearn-color-unfitted-level-0);\n",
       "}\n",
       "\n",
       "#sk-container-id-3 div.sk-toggleable__content.fitted pre {\n",
       "  /* unfitted */\n",
       "  background-color: var(--sklearn-color-fitted-level-0);\n",
       "}\n",
       "\n",
       "#sk-container-id-3 input.sk-toggleable__control:checked~div.sk-toggleable__content {\n",
       "  /* Expand drop-down */\n",
       "  max-height: 200px;\n",
       "  max-width: 100%;\n",
       "  overflow: auto;\n",
       "}\n",
       "\n",
       "#sk-container-id-3 input.sk-toggleable__control:checked~label.sk-toggleable__label-arrow:before {\n",
       "  content: \"▾\";\n",
       "}\n",
       "\n",
       "/* Pipeline/ColumnTransformer-specific style */\n",
       "\n",
       "#sk-container-id-3 div.sk-label input.sk-toggleable__control:checked~label.sk-toggleable__label {\n",
       "  color: var(--sklearn-color-text);\n",
       "  background-color: var(--sklearn-color-unfitted-level-2);\n",
       "}\n",
       "\n",
       "#sk-container-id-3 div.sk-label.fitted input.sk-toggleable__control:checked~label.sk-toggleable__label {\n",
       "  background-color: var(--sklearn-color-fitted-level-2);\n",
       "}\n",
       "\n",
       "/* Estimator-specific style */\n",
       "\n",
       "/* Colorize estimator box */\n",
       "#sk-container-id-3 div.sk-estimator input.sk-toggleable__control:checked~label.sk-toggleable__label {\n",
       "  /* unfitted */\n",
       "  background-color: var(--sklearn-color-unfitted-level-2);\n",
       "}\n",
       "\n",
       "#sk-container-id-3 div.sk-estimator.fitted input.sk-toggleable__control:checked~label.sk-toggleable__label {\n",
       "  /* fitted */\n",
       "  background-color: var(--sklearn-color-fitted-level-2);\n",
       "}\n",
       "\n",
       "#sk-container-id-3 div.sk-label label.sk-toggleable__label,\n",
       "#sk-container-id-3 div.sk-label label {\n",
       "  /* The background is the default theme color */\n",
       "  color: var(--sklearn-color-text-on-default-background);\n",
       "}\n",
       "\n",
       "/* On hover, darken the color of the background */\n",
       "#sk-container-id-3 div.sk-label:hover label.sk-toggleable__label {\n",
       "  color: var(--sklearn-color-text);\n",
       "  background-color: var(--sklearn-color-unfitted-level-2);\n",
       "}\n",
       "\n",
       "/* Label box, darken color on hover, fitted */\n",
       "#sk-container-id-3 div.sk-label.fitted:hover label.sk-toggleable__label.fitted {\n",
       "  color: var(--sklearn-color-text);\n",
       "  background-color: var(--sklearn-color-fitted-level-2);\n",
       "}\n",
       "\n",
       "/* Estimator label */\n",
       "\n",
       "#sk-container-id-3 div.sk-label label {\n",
       "  font-family: monospace;\n",
       "  font-weight: bold;\n",
       "  display: inline-block;\n",
       "  line-height: 1.2em;\n",
       "}\n",
       "\n",
       "#sk-container-id-3 div.sk-label-container {\n",
       "  text-align: center;\n",
       "}\n",
       "\n",
       "/* Estimator-specific */\n",
       "#sk-container-id-3 div.sk-estimator {\n",
       "  font-family: monospace;\n",
       "  border: 1px dotted var(--sklearn-color-border-box);\n",
       "  border-radius: 0.25em;\n",
       "  box-sizing: border-box;\n",
       "  margin-bottom: 0.5em;\n",
       "  /* unfitted */\n",
       "  background-color: var(--sklearn-color-unfitted-level-0);\n",
       "}\n",
       "\n",
       "#sk-container-id-3 div.sk-estimator.fitted {\n",
       "  /* fitted */\n",
       "  background-color: var(--sklearn-color-fitted-level-0);\n",
       "}\n",
       "\n",
       "/* on hover */\n",
       "#sk-container-id-3 div.sk-estimator:hover {\n",
       "  /* unfitted */\n",
       "  background-color: var(--sklearn-color-unfitted-level-2);\n",
       "}\n",
       "\n",
       "#sk-container-id-3 div.sk-estimator.fitted:hover {\n",
       "  /* fitted */\n",
       "  background-color: var(--sklearn-color-fitted-level-2);\n",
       "}\n",
       "\n",
       "/* Specification for estimator info (e.g. \"i\" and \"?\") */\n",
       "\n",
       "/* Common style for \"i\" and \"?\" */\n",
       "\n",
       ".sk-estimator-doc-link,\n",
       "a:link.sk-estimator-doc-link,\n",
       "a:visited.sk-estimator-doc-link {\n",
       "  float: right;\n",
       "  font-size: smaller;\n",
       "  line-height: 1em;\n",
       "  font-family: monospace;\n",
       "  background-color: var(--sklearn-color-background);\n",
       "  border-radius: 1em;\n",
       "  height: 1em;\n",
       "  width: 1em;\n",
       "  text-decoration: none !important;\n",
       "  margin-left: 1ex;\n",
       "  /* unfitted */\n",
       "  border: var(--sklearn-color-unfitted-level-1) 1pt solid;\n",
       "  color: var(--sklearn-color-unfitted-level-1);\n",
       "}\n",
       "\n",
       ".sk-estimator-doc-link.fitted,\n",
       "a:link.sk-estimator-doc-link.fitted,\n",
       "a:visited.sk-estimator-doc-link.fitted {\n",
       "  /* fitted */\n",
       "  border: var(--sklearn-color-fitted-level-1) 1pt solid;\n",
       "  color: var(--sklearn-color-fitted-level-1);\n",
       "}\n",
       "\n",
       "/* On hover */\n",
       "div.sk-estimator:hover .sk-estimator-doc-link:hover,\n",
       ".sk-estimator-doc-link:hover,\n",
       "div.sk-label-container:hover .sk-estimator-doc-link:hover,\n",
       ".sk-estimator-doc-link:hover {\n",
       "  /* unfitted */\n",
       "  background-color: var(--sklearn-color-unfitted-level-3);\n",
       "  color: var(--sklearn-color-background);\n",
       "  text-decoration: none;\n",
       "}\n",
       "\n",
       "div.sk-estimator.fitted:hover .sk-estimator-doc-link.fitted:hover,\n",
       ".sk-estimator-doc-link.fitted:hover,\n",
       "div.sk-label-container:hover .sk-estimator-doc-link.fitted:hover,\n",
       ".sk-estimator-doc-link.fitted:hover {\n",
       "  /* fitted */\n",
       "  background-color: var(--sklearn-color-fitted-level-3);\n",
       "  color: var(--sklearn-color-background);\n",
       "  text-decoration: none;\n",
       "}\n",
       "\n",
       "/* Span, style for the box shown on hovering the info icon */\n",
       ".sk-estimator-doc-link span {\n",
       "  display: none;\n",
       "  z-index: 9999;\n",
       "  position: relative;\n",
       "  font-weight: normal;\n",
       "  right: .2ex;\n",
       "  padding: .5ex;\n",
       "  margin: .5ex;\n",
       "  width: min-content;\n",
       "  min-width: 20ex;\n",
       "  max-width: 50ex;\n",
       "  color: var(--sklearn-color-text);\n",
       "  box-shadow: 2pt 2pt 4pt #999;\n",
       "  /* unfitted */\n",
       "  background: var(--sklearn-color-unfitted-level-0);\n",
       "  border: .5pt solid var(--sklearn-color-unfitted-level-3);\n",
       "}\n",
       "\n",
       ".sk-estimator-doc-link.fitted span {\n",
       "  /* fitted */\n",
       "  background: var(--sklearn-color-fitted-level-0);\n",
       "  border: var(--sklearn-color-fitted-level-3);\n",
       "}\n",
       "\n",
       ".sk-estimator-doc-link:hover span {\n",
       "  display: block;\n",
       "}\n",
       "\n",
       "/* \"?\"-specific style due to the `<a>` HTML tag */\n",
       "\n",
       "#sk-container-id-3 a.estimator_doc_link {\n",
       "  float: right;\n",
       "  font-size: 1rem;\n",
       "  line-height: 1em;\n",
       "  font-family: monospace;\n",
       "  background-color: var(--sklearn-color-background);\n",
       "  border-radius: 1rem;\n",
       "  height: 1rem;\n",
       "  width: 1rem;\n",
       "  text-decoration: none;\n",
       "  /* unfitted */\n",
       "  color: var(--sklearn-color-unfitted-level-1);\n",
       "  border: var(--sklearn-color-unfitted-level-1) 1pt solid;\n",
       "}\n",
       "\n",
       "#sk-container-id-3 a.estimator_doc_link.fitted {\n",
       "  /* fitted */\n",
       "  border: var(--sklearn-color-fitted-level-1) 1pt solid;\n",
       "  color: var(--sklearn-color-fitted-level-1);\n",
       "}\n",
       "\n",
       "/* On hover */\n",
       "#sk-container-id-3 a.estimator_doc_link:hover {\n",
       "  /* unfitted */\n",
       "  background-color: var(--sklearn-color-unfitted-level-3);\n",
       "  color: var(--sklearn-color-background);\n",
       "  text-decoration: none;\n",
       "}\n",
       "\n",
       "#sk-container-id-3 a.estimator_doc_link.fitted:hover {\n",
       "  /* fitted */\n",
       "  background-color: var(--sklearn-color-fitted-level-3);\n",
       "}\n",
       "</style><div id=\"sk-container-id-3\" class=\"sk-top-container\"><div class=\"sk-text-repr-fallback\"><pre>RandomForestClassifier(random_state=42)</pre><b>In a Jupyter environment, please rerun this cell to show the HTML representation or trust the notebook. <br />On GitHub, the HTML representation is unable to render, please try loading this page with nbviewer.org.</b></div><div class=\"sk-container\" hidden><div class=\"sk-item\"><div class=\"sk-estimator fitted sk-toggleable\"><input class=\"sk-toggleable__control sk-hidden--visually\" id=\"sk-estimator-id-3\" type=\"checkbox\" checked><label for=\"sk-estimator-id-3\" class=\"sk-toggleable__label fitted sk-toggleable__label-arrow fitted\">&nbsp;&nbsp;RandomForestClassifier<a class=\"sk-estimator-doc-link fitted\" rel=\"noreferrer\" target=\"_blank\" href=\"https://scikit-learn.org/1.4/modules/generated/sklearn.ensemble.RandomForestClassifier.html\">?<span>Documentation for RandomForestClassifier</span></a><span class=\"sk-estimator-doc-link fitted\">i<span>Fitted</span></span></label><div class=\"sk-toggleable__content fitted\"><pre>RandomForestClassifier(random_state=42)</pre></div> </div></div></div></div>"
      ],
      "text/plain": [
       "RandomForestClassifier(random_state=42)"
      ]
     },
     "execution_count": 121,
     "metadata": {},
     "output_type": "execute_result"
    }
   ],
   "source": [
    "# Train the model on the training data\n",
    "model.fit(X_train, y_train)"
   ]
  },
  {
   "cell_type": "code",
   "execution_count": 122,
   "id": "50dc15fa-5b87-49e4-8320-8a5e8e900356",
   "metadata": {},
   "outputs": [],
   "source": [
    "# Evaluate the model's performance on the testing data\n",
    "y_pred = model.predict(X_test)"
   ]
  },
  {
   "cell_type": "code",
   "execution_count": 123,
   "id": "1865267c-bef2-467c-b0e7-55e3708b3d14",
   "metadata": {},
   "outputs": [
    {
     "name": "stdout",
     "output_type": "stream",
     "text": [
      "Accuracy: 0.781\n",
      "Precision: 0.795\n",
      "Recall: 0.889\n",
      "F1-score: 0.840\n"
     ]
    }
   ],
   "source": [
    "accuracy = accuracy_score(y_test, y_pred)\n",
    "precision = precision_score(y_test, y_pred)\n",
    "recall = recall_score(y_test, y_pred)\n",
    "f1 = f1_score(y_test, y_pred)\n",
    "\n",
    "print(f\"Accuracy: {accuracy:.3f}\")\n",
    "print(f\"Precision: {precision:.3f}\")\n",
    "print(f\"Recall: {recall:.3f}\")\n",
    "print(f\"F1-score: {f1:.3f}\")"
   ]
  },
  {
   "cell_type": "code",
   "execution_count": 124,
   "id": "47e1fa3a-c764-440d-a529-d731e27af9e0",
   "metadata": {},
   "outputs": [
    {
     "name": "stdout",
     "output_type": "stream",
     "text": [
      "Cross-Validation F1-scores: [0.85375494 0.87058824 0.8365019  0.84337349 0.83969466]\n",
      "Mean Cross-Validation F1-score: 0.849\n"
     ]
    }
   ],
   "source": [
    "# Consider cross-validation\n",
    "scores = cross_val_score(model, X_train, y_train, cv=5, scoring='f1')\n",
    "print(f\"Cross-Validation F1-scores: {scores}\")\n",
    "print(f\"Mean Cross-Validation F1-score: {scores.mean():.3f}\")"
   ]
  },
  {
   "cell_type": "code",
   "execution_count": 125,
   "id": "767a291f-01e7-4682-85ac-a3accc1f4393",
   "metadata": {},
   "outputs": [],
   "source": [
    "# Hyperparameter tuning (example using GridSearchCV)\n",
    "from sklearn.model_selection import GridSearchCV\n",
    "\n",
    "param_grid = {\n",
    "    'n_estimators': [100, 200, 300],\n",
    "    'max_depth': [4, 6, 8, 10],\n",
    "    'min_samples_split': [2, 5, 10]\n",
    "}\n",
    "\n",
    "grid_search = GridSearchCV(estimator=RandomForestClassifier(random_state=42),\n",
    "                           param_grid=param_grid,\n",
    "                           scoring='f1',\n",
    "                           cv=5,\n",
    "                           n_jobs=-1)"
   ]
  },
  {
   "cell_type": "code",
   "execution_count": 126,
   "id": "fa4e5e98-7906-4324-8249-c147b5741ea4",
   "metadata": {},
   "outputs": [
    {
     "name": "stdout",
     "output_type": "stream",
     "text": [
      "Best parameters: {'max_depth': 10, 'min_samples_split': 2, 'n_estimators': 100}\n",
      "Best F1-score: 0.852\n"
     ]
    }
   ],
   "source": [
    "grid_search.fit(X_train, y_train)\n",
    "print(f\"Best parameters: {grid_search.best_params_}\")\n",
    "print(f\"Best F1-score: {grid_search.best_score_:.3f}\")"
   ]
  },
  {
   "cell_type": "code",
   "execution_count": 127,
   "id": "d2865e04-4a55-4e11-aef6-fed225d72ab6",
   "metadata": {},
   "outputs": [
    {
     "name": "stdout",
     "output_type": "stream",
     "text": [
      "Requirement already satisfied: matplotlib in c:\\users\\syeda\\desktop\\de-ht-imperial\\ml_project\\venv\\lib\\site-packages (3.8.4)\n",
      "Requirement already satisfied: contourpy>=1.0.1 in c:\\users\\syeda\\desktop\\de-ht-imperial\\ml_project\\venv\\lib\\site-packages (from matplotlib) (1.2.1)\n",
      "Requirement already satisfied: cycler>=0.10 in c:\\users\\syeda\\desktop\\de-ht-imperial\\ml_project\\venv\\lib\\site-packages (from matplotlib) (0.12.1)\n",
      "Requirement already satisfied: fonttools>=4.22.0 in c:\\users\\syeda\\desktop\\de-ht-imperial\\ml_project\\venv\\lib\\site-packages (from matplotlib) (4.51.0)\n",
      "Requirement already satisfied: kiwisolver>=1.3.1 in c:\\users\\syeda\\desktop\\de-ht-imperial\\ml_project\\venv\\lib\\site-packages (from matplotlib) (1.4.5)\n",
      "Requirement already satisfied: numpy>=1.21 in c:\\users\\syeda\\desktop\\de-ht-imperial\\ml_project\\venv\\lib\\site-packages (from matplotlib) (1.26.4)\n",
      "Requirement already satisfied: packaging>=20.0 in c:\\users\\syeda\\desktop\\de-ht-imperial\\ml_project\\venv\\lib\\site-packages (from matplotlib) (24.0)\n",
      "Requirement already satisfied: pillow>=8 in c:\\users\\syeda\\desktop\\de-ht-imperial\\ml_project\\venv\\lib\\site-packages (from matplotlib) (10.3.0)\n",
      "Requirement already satisfied: pyparsing>=2.3.1 in c:\\users\\syeda\\desktop\\de-ht-imperial\\ml_project\\venv\\lib\\site-packages (from matplotlib) (3.1.2)\n",
      "Requirement already satisfied: python-dateutil>=2.7 in c:\\users\\syeda\\desktop\\de-ht-imperial\\ml_project\\venv\\lib\\site-packages (from matplotlib) (2.9.0.post0)\n",
      "Requirement already satisfied: six>=1.5 in c:\\users\\syeda\\desktop\\de-ht-imperial\\ml_project\\venv\\lib\\site-packages (from python-dateutil>=2.7->matplotlib) (1.16.0)\n"
     ]
    }
   ],
   "source": [
    "!pip install matplotlib\n"
   ]
  },
  {
   "cell_type": "code",
   "execution_count": 128,
   "id": "d135342a-ae4a-44a4-b411-a24a56a0ceb0",
   "metadata": {},
   "outputs": [
    {
     "name": "stdout",
     "output_type": "stream",
     "text": [
      "Feature Importances:\n",
      "other_ratio: 0.207\n",
      "other: 0.176\n",
      "living_area_ratio: 0.155\n",
      "living_area: 0.137\n",
      "sleeping_area_ratio: 0.130\n",
      "sleeping_area: 0.115\n",
      "hour: 0.080\n"
     ]
    }
   ],
   "source": [
    "import matplotlib.pyplot as plt\n",
    "import numpy as np\n",
    "\n",
    "# Interpret the trained model\n",
    "feature_importances = model.feature_importances_\n",
    "sorted_importances = sorted(zip(feature_importances, X_train.columns), reverse=True)\n",
    "\n",
    "print(\"Feature Importances:\")\n",
    "for importance, feature in sorted_importances:\n",
    "    print(f\"{feature}: {importance:.3f}\")"
   ]
  },
  {
   "cell_type": "code",
   "execution_count": 129,
   "id": "8b6efeea-8b71-433d-8011-10e8901cf351",
   "metadata": {},
   "outputs": [
    {
     "data": {
      "image/png": "[encoded data removed]",
      "text/plain": [
       "<Figure size 1000x600 with 1 Axes>"
      ]
     },
     "metadata": {},
     "output_type": "display_data"
    }
   ],
   "source": [
    "# Plot feature importances\n",
    "plt.figure(figsize=(10, 6))\n",
    "plt.bar(range(len(feature_importances)), feature_importances, align='center')\n",
    "plt.xticks(range(len(feature_importances)), X_train.columns, rotation=90)\n",
    "plt.xlabel('Features')\n",
    "plt.ylabel('Importance')\n",
    "plt.title('Feature Importances')\n",
    "plt.show()"
   ]
  },
  {
   "cell_type": "code",
   "execution_count": 130,
   "id": "80883e89-bc4c-42fc-ab27-279dc0623166",
   "metadata": {},
   "outputs": [],
   "source": [
    "# Analyze potential biases or limitations\n",
    "from sklearn.inspection import permutation_importance\n",
    "\n",
    "# Compute permutation importance\n",
    "perm_importance = permutation_importance(model, X_test, y_test, n_repeats=10, random_state=42)\n"
   ]
  },
  {
   "cell_type": "code",
   "execution_count": 131,
   "id": "b520c210-f0ea-4799-9742-b5a597b4e92d",
   "metadata": {},
   "outputs": [
    {
     "data": {
      "image/png": "[encoded data removed]",
      "text/plain": [
       "<Figure size 1000x600 with 1 Axes>"
      ]
     },
     "metadata": {},
     "output_type": "display_data"
    }
   ],
   "source": [
    "# Plot permutation importance\n",
    "sorted_idx = perm_importance.importances_mean.argsort()\n",
    "plt.figure(figsize=(10, 6))\n",
    "plt.barh(range(len(perm_importance.importances_mean)), perm_importance.importances_mean[sorted_idx], align='center')\n",
    "plt.yticks(range(len(perm_importance.importances_mean)), np.array(X_train.columns)[sorted_idx], rotation=0)\n",
    "plt.xlabel('Permutation Importance')\n",
    "plt.title('Permutation Importance')\n",
    "plt.show()\n"
   ]
  },
  {
   "cell_type": "code",
   "execution_count": 132,
   "id": "0d001ba8-1bc9-4b91-a857-391c81dc216d",
   "metadata": {},
   "outputs": [
    {
     "name": "stdout",
     "output_type": "stream",
     "text": [
      "Class Distributions:\n",
      "multiple_occupancy\n",
      "1    610\n",
      "0    336\n",
      "Name: count, dtype: int64\n",
      "multiple_occupancy\n",
      "1    153\n",
      "0     84\n",
      "Name: count, dtype: int64\n"
     ]
    }
   ],
   "source": [
    "# Check for class imbalance\n",
    "print(\"Class Distributions:\")\n",
    "print(y_train.value_counts())\n",
    "print(y_test.value_counts())"
   ]
  },
  {
   "cell_type": "code",
   "execution_count": 133,
   "id": "72187723-fc5c-42b8-965d-903eb22ed4d9",
   "metadata": {},
   "outputs": [
    {
     "name": "stdout",
     "output_type": "stream",
     "text": [
      "Requirement already satisfied: onnxmltools in c:\\users\\syeda\\desktop\\de-ht-imperial\\ml_project\\venv\\lib\\site-packages (1.12.0)\n",
      "Requirement already satisfied: numpy in c:\\users\\syeda\\desktop\\de-ht-imperial\\ml_project\\venv\\lib\\site-packages (from onnxmltools) (1.26.4)\n",
      "Requirement already satisfied: onnx in c:\\users\\syeda\\desktop\\de-ht-imperial\\ml_project\\venv\\lib\\site-packages (from onnxmltools) (1.16.0)\n",
      "Requirement already satisfied: protobuf>=3.20.2 in c:\\users\\syeda\\desktop\\de-ht-imperial\\ml_project\\venv\\lib\\site-packages (from onnx->onnxmltools) (3.20.2)\n"
     ]
    }
   ],
   "source": [
    "!pip install onnxmltools"
   ]
  },
  {
   "cell_type": "code",
   "execution_count": 134,
   "id": "ddfab4c2-4d5b-489f-9a40-b205de591405",
   "metadata": {},
   "outputs": [
    {
     "name": "stdout",
     "output_type": "stream",
     "text": [
      "Requirement already satisfied: onnxconverter_common in c:\\users\\syeda\\desktop\\de-ht-imperial\\ml_project\\venv\\lib\\site-packages (1.14.0)\n",
      "Requirement already satisfied: numpy in c:\\users\\syeda\\desktop\\de-ht-imperial\\ml_project\\venv\\lib\\site-packages (from onnxconverter_common) (1.26.4)\n",
      "Requirement already satisfied: onnx in c:\\users\\syeda\\desktop\\de-ht-imperial\\ml_project\\venv\\lib\\site-packages (from onnxconverter_common) (1.16.0)\n",
      "Requirement already satisfied: packaging in c:\\users\\syeda\\desktop\\de-ht-imperial\\ml_project\\venv\\lib\\site-packages (from onnxconverter_common) (24.0)\n",
      "Requirement already satisfied: protobuf==3.20.2 in c:\\users\\syeda\\desktop\\de-ht-imperial\\ml_project\\venv\\lib\\site-packages (from onnxconverter_common) (3.20.2)\n"
     ]
    }
   ],
   "source": [
    "!pip install onnxconverter_common"
   ]
  },
  {
   "cell_type": "code",
   "execution_count": 135,
   "id": "2c996006-5254-4897-a0f3-69abbecdc2a0",
   "metadata": {},
   "outputs": [
    {
     "name": "stdout",
     "output_type": "stream",
     "text": [
      "Name: setuptools\n",
      "Version: 69.5.1\n",
      "Summary: Easily download, build, install, upgrade, and uninstall Python packages\n",
      "Home-page: https://github.com/pypa/setuptools\n",
      "Author: Python Packaging Authority\n",
      "Author-email: distutils-sig@python.org\n",
      "License: \n",
      "Location: C:\\Users\\syeda\\Desktop\\de-ht-Imperial\\ML_project\\venv\\Lib\\site-packages\n",
      "Requires: \n",
      "Required-by: \n",
      "Note: you may need to restart the kernel to use updated packages.\n"
     ]
    }
   ],
   "source": [
    "pip show setuptools"
   ]
  },
  {
   "cell_type": "code",
   "execution_count": 136,
   "id": "46db70f0-8001-4c0e-adbb-b1d5f9039b8e",
   "metadata": {},
   "outputs": [
    {
     "name": "stdout",
     "output_type": "stream",
     "text": [
      "Requirement already satisfied: setuptools in c:\\users\\syeda\\desktop\\de-ht-imperial\\ml_project\\venv\\lib\\site-packages (69.5.1)\n",
      "Note: you may need to restart the kernel to use updated packages.\n"
     ]
    }
   ],
   "source": [
    "pip install setuptools"
   ]
  },
  {
   "cell_type": "code",
   "execution_count": 137,
   "id": "77846634-9182-4e50-9dba-4839a5320e66",
   "metadata": {},
   "outputs": [
    {
     "name": "stdout",
     "output_type": "stream",
     "text": [
      "Requirement already satisfied: skl2onnx in c:\\users\\syeda\\desktop\\de-ht-imperial\\ml_project\\venv\\lib\\site-packages (1.16.0)\n",
      "Requirement already satisfied: onnx>=1.2.1 in c:\\users\\syeda\\desktop\\de-ht-imperial\\ml_project\\venv\\lib\\site-packages (from skl2onnx) (1.16.0)\n",
      "Requirement already satisfied: scikit-learn>=0.19 in c:\\users\\syeda\\desktop\\de-ht-imperial\\ml_project\\venv\\lib\\site-packages (from skl2onnx) (1.4.2)\n",
      "Requirement already satisfied: onnxconverter-common>=1.7.0 in c:\\users\\syeda\\desktop\\de-ht-imperial\\ml_project\\venv\\lib\\site-packages (from skl2onnx) (1.14.0)\n",
      "Requirement already satisfied: numpy>=1.20 in c:\\users\\syeda\\desktop\\de-ht-imperial\\ml_project\\venv\\lib\\site-packages (from onnx>=1.2.1->skl2onnx) (1.26.4)\n",
      "Requirement already satisfied: protobuf>=3.20.2 in c:\\users\\syeda\\desktop\\de-ht-imperial\\ml_project\\venv\\lib\\site-packages (from onnx>=1.2.1->skl2onnx) (3.20.2)\n",
      "Requirement already satisfied: packaging in c:\\users\\syeda\\desktop\\de-ht-imperial\\ml_project\\venv\\lib\\site-packages (from onnxconverter-common>=1.7.0->skl2onnx) (24.0)\n",
      "Requirement already satisfied: scipy>=1.6.0 in c:\\users\\syeda\\desktop\\de-ht-imperial\\ml_project\\venv\\lib\\site-packages (from scikit-learn>=0.19->skl2onnx) (1.13.0)\n",
      "Requirement already satisfied: joblib>=1.2.0 in c:\\users\\syeda\\desktop\\de-ht-imperial\\ml_project\\venv\\lib\\site-packages (from scikit-learn>=0.19->skl2onnx) (1.4.0)\n",
      "Requirement already satisfied: threadpoolctl>=2.0.0 in c:\\users\\syeda\\desktop\\de-ht-imperial\\ml_project\\venv\\lib\\site-packages (from scikit-learn>=0.19->skl2onnx) (3.5.0)\n",
      "Note: you may need to restart the kernel to use updated packages.\n"
     ]
    }
   ],
   "source": [
    "pip install skl2onnx"
   ]
  },
  {
   "cell_type": "code",
   "execution_count": 138,
   "id": "0d3deedd-5dd6-474d-a974-a7c614877a12",
   "metadata": {},
   "outputs": [
    {
     "name": "stdout",
     "output_type": "stream",
     "text": [
      "      hour  living_area  other  sleeping_area  living_area_ratio  \\\n",
      "650     19        224.0   23.0            0.0           0.030201   \n",
      "977     10        739.0  201.0            0.0           0.045388   \n",
      "993      2          0.0   14.0           28.0           0.000000   \n",
      "730      3         11.0    0.0            5.0           0.001166   \n",
      "275      2         64.0   12.0           75.0           0.012107   \n",
      "...    ...          ...    ...            ...                ...   \n",
      "1044     5          0.0   46.0           46.0           0.000000   \n",
      "1095     8        445.0  259.0           77.0           0.037565   \n",
      "1130    19        271.0  188.0           15.0           0.024335   \n",
      "860     13        259.0   89.0           48.0           0.035100   \n",
      "1126    15        211.0  249.0           29.0           0.018948   \n",
      "\n",
      "      sleeping_area_ratio  other_ratio  \n",
      "650              0.000000     0.003101  \n",
      "977              0.000000     0.012345  \n",
      "993              0.002701     0.001350  \n",
      "730              0.000530     0.000000  \n",
      "275              0.014188     0.002270  \n",
      "...                   ...          ...  \n",
      "1044             0.004249     0.004249  \n",
      "1095             0.006500     0.021864  \n",
      "1130             0.001347     0.016882  \n",
      "860              0.006505     0.012061  \n",
      "1126             0.002604     0.022360  \n",
      "\n",
      "[946 rows x 7 columns]\n"
     ]
    }
   ],
   "source": [
    "print(X_train)"
   ]
  },
  {
   "cell_type": "code",
   "execution_count": 139,
   "id": "39958191-8726-4a32-b2ac-99c9b031e72e",
   "metadata": {},
   "outputs": [
    {
     "name": "stdout",
     "output_type": "stream",
     "text": [
      "Requirement already satisfied: onnx in c:\\users\\syeda\\desktop\\de-ht-imperial\\ml_project\\venv\\lib\\site-packages (1.16.0)\n",
      "Requirement already satisfied: numpy>=1.20 in c:\\users\\syeda\\desktop\\de-ht-imperial\\ml_project\\venv\\lib\\site-packages (from onnx) (1.26.4)\n",
      "Requirement already satisfied: protobuf>=3.20.2 in c:\\users\\syeda\\desktop\\de-ht-imperial\\ml_project\\venv\\lib\\site-packages (from onnx) (3.20.2)\n",
      "Note: you may need to restart the kernel to use updated packages.\n"
     ]
    }
   ],
   "source": [
    "pip install onnx"
   ]
  },
  {
   "cell_type": "code",
   "execution_count": 140,
   "id": "e82bfe09-9628-4f5a-9cb1-6894fafdf386",
   "metadata": {},
   "outputs": [],
   "source": [
    "import pandas as pd\n",
    "import onnxmltools\n",
    "import onnxconverter_common\n",
    "import skl2onnx\n",
    "\n",
    "# Demonstrate prediction on new data\n",
    "new_data = {\n",
    "    'hour': [10, 15, 20],\n",
    "    'living_area': [2, 1, 0],\n",
    "    'other': [1, 0, 2],\n",
    "    'sleeping_area': [0, 1, 3],\n",
    "    \n",
    "    'living_area_ratio': [0.5, 0.25, 0.0],  \n",
    "    'sleeping_area_ratio': [0.0, 0.25, 0.6],\n",
    "    'other_ratio': [0.25, 0.0, 0.4]\n",
    "}\n",
    "new_data = pd.DataFrame(new_data)\n"
   ]
  },
  {
   "cell_type": "code",
   "execution_count": 141,
   "id": "6a1b9965-4b81-4585-9aa5-57202dbf3aa8",
   "metadata": {},
   "outputs": [
    {
     "name": "stdout",
     "output_type": "stream",
     "text": [
      "Predictions on New Data:\n",
      "[0 0 1]\n"
     ]
    }
   ],
   "source": [
    "predictions = model.predict(new_data)\n",
    "print(\"Predictions on New Data:\")\n",
    "print(predictions)"
   ]
  },
  {
   "cell_type": "code",
   "execution_count": 142,
   "id": "1c9f1449-5763-4706-8cc9-a3f2acc36e09",
   "metadata": {},
   "outputs": [],
   "source": [
    "# Convert the model to ONNX format\n",
    "def convert_dataframe_to_numpy(df):\n",
    "    \"\"\"\n",
    "    Convert a pandas DataFrame to a NumPy array.\n",
    "    \"\"\"\n",
    "    return df.to_numpy()"
   ]
  },
  {
   "cell_type": "code",
   "execution_count": 143,
   "id": "eaa1db3a-aa12-4fb6-a069-12bcb7c53f17",
   "metadata": {},
   "outputs": [],
   "source": [
    "import numpy as np\n",
    "from onnxmltools.convert.common.data_types import FloatTensorType\n"
   ]
  },
  {
   "cell_type": "code",
   "execution_count": 144,
   "id": "39e17230-6133-4b4e-9bfa-ae28385bce17",
   "metadata": {},
   "outputs": [],
   "source": [
    "# Determine the input shape from X_train\n",
    "input_shape = X_train.shape\n",
    "\n",
    "# Create the input data type\n",
    "input_data_type = FloatTensorType(input_shape)"
   ]
  },
  {
   "cell_type": "code",
   "execution_count": 145,
   "id": "397ddbd4-577f-4ecc-8ef9-7f731413bfa5",
   "metadata": {},
   "outputs": [],
   "source": [
    "import onnx\n",
    "\n",
    "# Convert the model to ONNX format\n",
    "onnx_model = onnxmltools.convert_sklearn(\n",
    "    model,\n",
    "    initial_types=[('float_input', input_data_type)],\n",
    "    target_opset=13\n",
    ")\n",
    "\n",
    "# Save the ONNX model\n",
    "onnx.save_model(onnx_model, \"random_forest_model.onnx\")"
   ]
  },
  {
   "cell_type": "code",
   "execution_count": 146,
   "id": "9a1c29bc-6dc1-4565-ad46-cc3da8d6143f",
   "metadata": {},
   "outputs": [],
   "source": [
    "# Create an ONNX converter\n",
    "onnx_converter = onnxmltools.convert_sklearn(\n",
    "    model,\n",
    "    initial_types=[('float_input', input_data_type)],\n",
    "    target_opset=13\n",
    ")"
   ]
  }
 ],
 "metadata": {
  "kernelspec": {
   "display_name": "Python 3 (ipykernel)",
   "language": "python",
   "name": "python3"
  },
  "language_info": {
   "codemirror_mode": {
    "name": "ipython",
    "version": 3
   },
   "file_extension": ".py",
   "mimetype": "text/x-python",
   "name": "python",
   "nbconvert_exporter": "python",
   "pygments_lexer": "ipython3",
   "version": "3.12.0"
  }
 },
 "nbformat": 4,
 "nbformat_minor": 5
}
